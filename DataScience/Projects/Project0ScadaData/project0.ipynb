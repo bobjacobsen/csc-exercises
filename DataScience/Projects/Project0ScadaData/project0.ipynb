{
 "cells": [
  {
   "cell_type": "markdown",
   "id": "619348fa",
   "metadata": {},
   "source": [
    "## Control System Data"
   ]
  },
  {
   "cell_type": "markdown",
   "id": "37bbe2f9",
   "metadata": {},
   "source": [
    "This is an open-ended project to look at some data from an experiment's control system.\n",
    "\n",
    "Briefly, the system provides cooling to two separate parts of the experiment.  To do that, it pumps water from an external supply chiller through a storage tank and into two cooling loop chillers (heat exchangers):"
   ]
  },
  {
   "cell_type": "markdown",
   "id": "b7fb3b2a",
   "metadata": {},
   "source": [
    "![drawing of equipment](PhysicalPlant.pdf \"Physical Plant\")"
   ]
  },
  {
   "cell_type": "markdown",
   "id": "5e199fe3",
   "metadata": {},
   "source": [
    "The water comes in from the supply cold. When cooling is needed, loop pumps (one for each of A and B, not shown) start pumping warm coolant through the chiller and open the respective water flow valve.  \n",
    "\n",
    "We set up the usual includes:"
   ]
  },
  {
   "cell_type": "code",
   "execution_count": null,
   "id": "3b3c1f73",
   "metadata": {},
   "outputs": [],
   "source": [
    "from datascience import Table\n",
    "import pandas as pd\n",
    "import numpy as np\n",
    "\n",
    "import matplotlib\n",
    "matplotlib.use('Agg')\n",
    "%matplotlib inline\n",
    "import matplotlib.pyplot as plt\n",
    "plt.style.use('fivethirtyeight')\n",
    "plt.rcParams['figure.figsize'] = (10.0, 5.0)"
   ]
  },
  {
   "cell_type": "markdown",
   "id": "a50b214b",
   "metadata": {},
   "source": [
    "We have five channels of data:"
   ]
  },
  {
   "cell_type": "code",
   "execution_count": null,
   "id": "8d90efad",
   "metadata": {},
   "outputs": [],
   "source": [
    "data = Table.read_table(\"data.csv\")\n",
    "data"
   ]
  },
  {
   "cell_type": "markdown",
   "id": "e8560b08",
   "metadata": {},
   "source": [
    "T5 and the four Spare columns don't have useful data. Let's remove them to reduce the size of our computations:"
   ]
  },
  {
   "cell_type": "code",
   "execution_count": null,
   "id": "79258c1f",
   "metadata": {},
   "outputs": [],
   "source": [
    "data = data.drop(\"T5\", \"Spare1\", \"Spare2\", \"Spare3\", \"Spare4\").copy()\n",
    "data"
   ]
  },
  {
   "cell_type": "markdown",
   "id": "219ebefe",
   "metadata": {},
   "source": [
    "The data is in Imperial units:  Degrees Fahrenheit and PSI.  Convert the columns to metric units for convenience."
   ]
  },
  {
   "cell_type": "code",
   "execution_count": null,
   "id": "1d9f929e",
   "metadata": {},
   "outputs": [],
   "source": [
    "data[\"T1\"] = (data[\"T1\"]-32)*5/9\n",
    "data[\"T2\"] = (data[\"T2\"]-32)*5/9\n",
    "data[\"T3\"] = (data[\"T3\"]-32)*5/9\n",
    "data[\"T4\"] = (data[\"T4\"]-32)*5/9\n",
    "data[\"Pressure\"] = (data[\"Pressure\"]/14.2)*101325 # convert to Atm, then to Pascals, kPa or bar\n",
    "data"
   ]
  },
  {
   "cell_type": "markdown",
   "id": "5ce73fb1",
   "metadata": {},
   "source": [
    "Let's plot these by row (as a stand-in for by-time):"
   ]
  },
  {
   "cell_type": "code",
   "execution_count": null,
   "id": "bbfe97a8",
   "metadata": {},
   "outputs": [],
   "source": [
    "plt.plot(data['T1'],\"b\");"
   ]
  },
  {
   "cell_type": "code",
   "execution_count": null,
   "id": "7a516524",
   "metadata": {},
   "outputs": [],
   "source": [
    "plt.plot(data['T2'],\"k\");"
   ]
  },
  {
   "cell_type": "markdown",
   "id": "a56b4d9c",
   "metadata": {},
   "source": [
    "There's a lot of similarity there. Try plotting the difference"
   ]
  },
  {
   "cell_type": "code",
   "execution_count": null,
   "id": "250db687",
   "metadata": {},
   "outputs": [],
   "source": [
    "plt.plot(data['T2']-data['T1'],\"r\");"
   ]
  },
  {
   "cell_type": "code",
   "execution_count": null,
   "id": "4e85c317",
   "metadata": {},
   "outputs": [],
   "source": [
    "plt.plot(data['T2'], data['T1'], '.k')"
   ]
  },
  {
   "cell_type": "markdown",
   "id": "dc841d12",
   "metadata": {},
   "source": [
    "Is that going back and forth between two states? Check by histogramming."
   ]
  },
  {
   "cell_type": "code",
   "execution_count": null,
   "id": "09c0f079",
   "metadata": {},
   "outputs": [],
   "source": [
    "plt.hist(data['T1']);"
   ]
  },
  {
   "cell_type": "markdown",
   "id": "639f5435",
   "metadata": {},
   "source": [
    "How about the difference?"
   ]
  },
  {
   "cell_type": "code",
   "execution_count": null,
   "id": "b3ee54a9",
   "metadata": {},
   "outputs": [],
   "source": [
    "plt.hist(data['T2']-data['T1']);"
   ]
  },
  {
   "cell_type": "markdown",
   "id": "270fa6f8",
   "metadata": {},
   "source": [
    "It's hard to see structure in the entire data set.  Select out a sub-sample:"
   ]
  },
  {
   "cell_type": "code",
   "execution_count": null,
   "id": "5c00c681",
   "metadata": {},
   "outputs": [],
   "source": [
    "# selection by rows is easiest done in Pandas, which has strong indexing\n",
    "pTable = data.to_df()[0:4000]\n",
    "start = Table.from_df(pTable)\n",
    "start"
   ]
  },
  {
   "cell_type": "code",
   "execution_count": null,
   "id": "9927642e",
   "metadata": {},
   "outputs": [],
   "source": [
    "plt.plot(start['T2']-start['T1'],\"r\");"
   ]
  },
  {
   "cell_type": "markdown",
   "id": "183dcb91",
   "metadata": {},
   "source": [
    "Which part corresponds to the chiller running?  Do both A and B run at the same time?"
   ]
  },
  {
   "cell_type": "code",
   "execution_count": null,
   "id": "cea1504f",
   "metadata": {},
   "outputs": [],
   "source": [
    "plt.plot(start['T2']-start['T1'],\"r\");\n",
    "plt.plot(start['T4']-start['T3'],\"b\");"
   ]
  },
  {
   "cell_type": "markdown",
   "id": "87b55876",
   "metadata": {},
   "source": [
    "What fraction of time is chiller A running? Chiller B? What fraction are they both running together?"
   ]
  },
  {
   "cell_type": "code",
   "execution_count": null,
   "id": "5a358f35",
   "metadata": {},
   "outputs": [],
   "source": [
    "data = data.with_column(\"T2-T1\", data[\"T2\"]-data[\"T1\"])  # add a column with temp difference\n",
    "data.where(data[\"T2-T1\"] > 5).num_rows / data.num_rows # select out running values and count"
   ]
  },
  {
   "cell_type": "code",
   "execution_count": null,
   "id": "7b5cea8e",
   "metadata": {},
   "outputs": [],
   "source": []
  },
  {
   "cell_type": "code",
   "execution_count": null,
   "id": "2d244dee",
   "metadata": {},
   "outputs": [],
   "source": []
  },
  {
   "cell_type": "markdown",
   "id": "a95cbd78",
   "metadata": {},
   "source": [
    "What does the water pressure do?"
   ]
  },
  {
   "cell_type": "code",
   "execution_count": null,
   "id": "df0f678c",
   "metadata": {},
   "outputs": [],
   "source": [
    "plt.plot(start['Pressure'],\"y\");"
   ]
  },
  {
   "cell_type": "markdown",
   "id": "5f2da271",
   "metadata": {},
   "source": [
    "There seem to be two kinds of changes on two timescales. What causes them?  (Hint: Can you zoom in around sample 1000?  2400?)"
   ]
  },
  {
   "cell_type": "code",
   "execution_count": null,
   "id": "40116cc2",
   "metadata": {},
   "outputs": [],
   "source": [
    "# (this may take multiple lines)\n",
    "\n"
   ]
  },
  {
   "cell_type": "markdown",
   "id": "0a8c3275",
   "metadata": {},
   "source": [
    "Some more questions to investigate:\n",
    " - There seems to be a leak in one of the valves. (Why do I think that?) Use the temperature data to find which one.\n",
    " - Look at few tank refills when the chiller is not running. Are they doing something unexpected?  What is it? Can you find a way to pull samples of data to investigate a number of these? (Data around 30,000 might be useful, as might '.diff()' from the Old Faithful example)\n",
    " - Why did the temperature change at about sample 2500? It might help to find more of these and see what happened around that time.\n",
    " - Was the DAQ system ever off? If so, when and for how long?  (Working directly with 'Time' can be slow because each row needs to be de-formatted each time; we provide a fast way to convert time to elapsed seconds and interval integers below)\n",
    " - If I tell you that 40kg/min of water flows through each chiller when it's running, can you find how much heat is being removed? (What data do you need, and how do you get it?) How much water the pump can provide? How much water flows through the leak?"
   ]
  },
  {
   "cell_type": "code",
   "execution_count": null,
   "id": "d429f61f",
   "metadata": {},
   "outputs": [],
   "source": []
  },
  {
   "cell_type": "code",
   "execution_count": null,
   "id": "aabee523",
   "metadata": {},
   "outputs": [],
   "source": []
  },
  {
   "cell_type": "code",
   "execution_count": null,
   "id": "5b8a21b5",
   "metadata": {},
   "outputs": [],
   "source": []
  },
  {
   "cell_type": "code",
   "execution_count": null,
   "id": "32287ced",
   "metadata": {},
   "outputs": [],
   "source": []
  },
  {
   "cell_type": "code",
   "execution_count": null,
   "id": "1033744e",
   "metadata": {},
   "outputs": [],
   "source": [
    "# converting the \"Time\" column to an integer involves several conversions, so we provide this example\n",
    "df = data.to_df()  # pandas has time conversion routines\n",
    "times = pd.to_datetime(df['Time']).astype(int)/1000000000  # time is in nsec\n",
    "\n",
    "start = times[0]    # find first sample \n",
    "timeColumn = times - start   # and subtract off to keep numbers small\n",
    "\n",
    "data = data.with_column(\"Seconds\", timeColumn) # add \"Seconds\" column to our Table\n",
    "\n",
    "diffTimeColumn = timeColumn.diff()  # compute difference between times\n",
    "data = data.with_column(\"deltaSeconds\", diffTimeColumn)  # add \"deltaSeconds\" to our table\n",
    "\n",
    "data"
   ]
  },
  {
   "cell_type": "code",
   "execution_count": null,
   "id": "4bbc1b91",
   "metadata": {},
   "outputs": [],
   "source": [
    "plt.plot(data['deltaSeconds']);"
   ]
  },
  {
   "cell_type": "code",
   "execution_count": null,
   "id": "efde68aa",
   "metadata": {},
   "outputs": [],
   "source": []
  },
  {
   "cell_type": "code",
   "execution_count": null,
   "id": "e3b14856",
   "metadata": {},
   "outputs": [],
   "source": []
  }
 ],
 "metadata": {
  "kernelspec": {
   "display_name": "Python 3 (ipykernel)",
   "language": "python",
   "name": "python3"
  },
  "language_info": {
   "codemirror_mode": {
    "name": "ipython",
    "version": 3
   },
   "file_extension": ".py",
   "mimetype": "text/x-python",
   "name": "python",
   "nbconvert_exporter": "python",
   "pygments_lexer": "ipython3",
   "version": "3.9.12"
  }
 },
 "nbformat": 4,
 "nbformat_minor": 5
}
