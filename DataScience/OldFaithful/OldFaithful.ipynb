{
 "cells": [
  {
   "cell_type": "markdown",
   "id": "f580253f",
   "metadata": {},
   "source": [
    "# Old Faithful"
   ]
  },
  {
   "cell_type": "code",
   "execution_count": null,
   "id": "3e21462f",
   "metadata": {},
   "outputs": [],
   "source": [
    "# Data file in this notebook is from https://www.stat.cmu.edu/~larry/all-of-statistics/=data/faithful.dat\n",
    "# The original paper is available as https://tommasorigon.github.io/StatI/approfondimenti/Azzalini1990.pdf"
   ]
  },
  {
   "cell_type": "code",
   "execution_count": null,
   "id": "b2a9dcdd",
   "metadata": {},
   "outputs": [],
   "source": [
    "# Standard definitions and options\n",
    "from datascience import Table    # high-level abstraction\n",
    "import pandas as pd              # mid-level data frames and series\n",
    "import numpy as np               # low-level arrays and vectors\n",
    "\n",
    "import matplotlib                # plotting\n",
    "matplotlib.use('Agg')                        # make nice screen plots\n",
    "%matplotlib inline\n",
    "import matplotlib.pyplot as plt\n",
    "plt.style.use('fivethirtyeight')             # a particular plot format\n",
    "plt.rcParams['figure.figsize'] = (10.0, 5.0) # wide plots to use space well"
   ]
  },
  {
   "cell_type": "code",
   "execution_count": null,
   "id": "ac1c448a",
   "metadata": {},
   "outputs": [],
   "source": [
    "# Read in the data from a CSV file - headers taken from file\n",
    "data = Table.read_table(\"oldfaithful.csv\")"
   ]
  },
  {
   "cell_type": "code",
   "execution_count": null,
   "id": "f788d585",
   "metadata": {},
   "outputs": [],
   "source": [
    "# Take a look at the data\n",
    "data"
   ]
  },
  {
   "cell_type": "code",
   "execution_count": null,
   "id": "2bc8b191",
   "metadata": {},
   "outputs": [],
   "source": [
    "# Old Faithful is famous for its repeatability - lets check some statistics\n",
    "data[2].mean()            # data[2] is the Interval column"
   ]
  },
  {
   "cell_type": "code",
   "execution_count": null,
   "id": "eb4b3b03",
   "metadata": {},
   "outputs": [],
   "source": [
    "data['Interval'].std()    # but we can also refer to it by name"
   ]
  },
  {
   "cell_type": "code",
   "execution_count": null,
   "id": "35d8f1eb",
   "metadata": {},
   "outputs": [],
   "source": [
    "data['Interval'].min()"
   ]
  },
  {
   "cell_type": "code",
   "execution_count": null,
   "id": "b9012392",
   "metadata": {},
   "outputs": [],
   "source": [
    "data['Interval'].max()     # all the usual summary statistics are available"
   ]
  },
  {
   "cell_type": "code",
   "execution_count": null,
   "id": "1b3242f6",
   "metadata": {},
   "outputs": [],
   "source": [
    "# While we're here, let's look at the other data we have\n",
    "data['Duration'].mean(), data['Duration'].std()         # two statements on a line using commas"
   ]
  },
  {
   "cell_type": "code",
   "execution_count": null,
   "id": "125e4f8a",
   "metadata": {
    "scrolled": true
   },
   "outputs": [],
   "source": [
    "# Let's see what the distribution looks like\n",
    "plt.hist(data['Interval'], bins=30)\n",
    "plt.figtext(0.75,0.5, data.to_df()['Interval'].describe().to_string())   # add descripitive text block from pandas\n",
    "plt.title(\"Interval\");                                                   # semicolon suppresses printing value"
   ]
  },
  {
   "cell_type": "code",
   "execution_count": null,
   "id": "cda01a3d",
   "metadata": {},
   "outputs": [],
   "source": [
    "# Not particularly Gaussian!\n",
    "# Maybe there's two peaks there. But that still doesn't give us a better way to predict the eruption.\n",
    "# Look at other information we have:\n",
    "plt.hist(data['Duration'], bins=30)\n",
    "plt.figtext(0.3,0.4, data.to_df()['Duration'].describe().to_string())\n",
    "plt.title(\"Duration\");"
   ]
  },
  {
   "cell_type": "code",
   "execution_count": null,
   "id": "d651ff68",
   "metadata": {},
   "outputs": [],
   "source": [
    "# Maybe there's a correlation?\n",
    "np.corrcoef(data['Duration'], data['Interval'])"
   ]
  },
  {
   "cell_type": "code",
   "execution_count": null,
   "id": "c93608ab",
   "metadata": {},
   "outputs": [],
   "source": [
    "# that's pretty strong, let's look at it\n",
    "plt.plot(data['Duration'], data['Interval']);"
   ]
  },
  {
   "cell_type": "code",
   "execution_count": null,
   "id": "8e27ec8f",
   "metadata": {},
   "outputs": [],
   "source": [
    "# Maybe plotting as points would be better...\n",
    "plt.plot(data['Duration'], data['Interval'],\"ob\");   # o: dots  b: blue"
   ]
  },
  {
   "cell_type": "code",
   "execution_count": null,
   "id": "fdc0769b",
   "metadata": {},
   "outputs": [],
   "source": [
    "# There seems to be two populations there!\n",
    "\n",
    "# If we select just one:\n",
    "long_duration_data = data.where(data['Duration'] > 3.2)\n",
    "plt.hist(long_duration_data['Duration'], bins=20)\n",
    "plt.figtext(0.1,0.5, long_duration_data.to_df()['Duration'].describe().to_string())\n",
    "plt.title(\"Duration > 3.2\");"
   ]
  },
  {
   "cell_type": "code",
   "execution_count": null,
   "id": "9401c596",
   "metadata": {},
   "outputs": [],
   "source": [
    "# But of course duration is more compact because we selected a narrower range,  How about interval?\n",
    "plt.hist(long_duration_data['Interval'], bins=20)\n",
    "plt.figtext(0.75,0.5, long_duration_data.to_df()['Interval'].describe().to_string())\n",
    "plt.title(\"Interval with Duration > 3.2\");"
   ]
  },
  {
   "cell_type": "code",
   "execution_count": null,
   "id": "17a479c5",
   "metadata": {},
   "outputs": [],
   "source": [
    "# We're down to 50% in 8 minutes and an RMS of 6 minutes on a mean of 80; 10%!\n",
    "#\n",
    "# The shorter duration blob is left for the reader..."
   ]
  },
  {
   "cell_type": "code",
   "execution_count": null,
   "id": "6018c6e1",
   "metadata": {},
   "outputs": [],
   "source": []
  },
  {
   "cell_type": "code",
   "execution_count": null,
   "id": "d56c5ca9",
   "metadata": {},
   "outputs": [],
   "source": []
  },
  {
   "cell_type": "code",
   "execution_count": null,
   "id": "76ca997a",
   "metadata": {},
   "outputs": [],
   "source": [
    "# Try fitting a line instead using two populations\n",
    "d = np.polyfit(data['Duration'], data['Interval'],1)  # 1 is the order of the polynomial; try 0 and 2\n",
    "f = np.poly1d(d)\n",
    "data['trendline'] = f(data['Duration'])   # adds a column with the line values\n",
    "\n",
    "# To get a nice plot with 2nd order, we need to sort the data in the plot as it draws line between pairs\n",
    "# To see this, you might want to try plotting without the sort.\n",
    "\n",
    "temp = data.sort('Duration')\n",
    "\n",
    "plt.plot(temp['Duration'], temp['Interval'],\"ob\");\n",
    "plt.plot(temp['Duration'], temp['trendline'],\"k\");"
   ]
  },
  {
   "cell_type": "code",
   "execution_count": null,
   "id": "5fb16d21",
   "metadata": {},
   "outputs": [],
   "source": [
    "# See how wide the difference from the linear fit is\n",
    "plt.hist(data['Interval']-data['trendline'], 30)\n",
    "plt.figtext(0.75,0.5, (data.to_df()['Interval']-data.to_df()['trendline']).describe().to_string())\n",
    "plt.title(\"Difference from Fit\");"
   ]
  },
  {
   "cell_type": "code",
   "execution_count": null,
   "id": "f4f2d4b4",
   "metadata": {},
   "outputs": [],
   "source": [
    "# Is one of these better (less variance) than the other, or are they about the same?"
   ]
  },
  {
   "cell_type": "code",
   "execution_count": null,
   "id": "652fc649",
   "metadata": {},
   "outputs": [],
   "source": []
  },
  {
   "cell_type": "code",
   "execution_count": null,
   "id": "320713a9",
   "metadata": {},
   "outputs": [],
   "source": [
    "# Try plotting duration and wait time vs the event number. Is there a pattern there?"
   ]
  },
  {
   "cell_type": "code",
   "execution_count": null,
   "id": "eadd06f4",
   "metadata": {},
   "outputs": [],
   "source": [
    "plt.plot(data['N'], data['Interval'],\"b\");"
   ]
  },
  {
   "cell_type": "code",
   "execution_count": null,
   "id": "fbdf6530",
   "metadata": {},
   "outputs": [],
   "source": [
    "plt.plot(data['N'], data['Duration'],\"b\");"
   ]
  },
  {
   "cell_type": "code",
   "execution_count": null,
   "id": "319163bf",
   "metadata": {},
   "outputs": [],
   "source": [
    "# Do points or lines make the display clearer?"
   ]
  },
  {
   "cell_type": "code",
   "execution_count": null,
   "id": "d7716a6f",
   "metadata": {},
   "outputs": [],
   "source": [
    "# You can calculate the difference to the previous value and add it as a column:\n",
    "data['deltaD'] = data.to_df()[\"Duration\"].diff()  # pandas' diff() makes an address of row-by-row differences\n",
    "data['deltaD'][0:5]                               # [0:5] selects out elements                        "
   ]
  },
  {
   "cell_type": "code",
   "execution_count": null,
   "id": "65c7ed74",
   "metadata": {},
   "outputs": [],
   "source": [
    "data['deltaI'] = data.to_df()[\"Interval\"].diff()\n",
    "data['deltaI'][0:5]                               # notation for just some elements"
   ]
  },
  {
   "cell_type": "code",
   "execution_count": null,
   "id": "12f9b9a6",
   "metadata": {},
   "outputs": [],
   "source": [
    "# Plot deltaD vs deltaI and see if there's any grouping"
   ]
  },
  {
   "cell_type": "code",
   "execution_count": null,
   "id": "a3c6d9f0",
   "metadata": {},
   "outputs": [],
   "source": []
  },
  {
   "cell_type": "code",
   "execution_count": null,
   "id": "b3c8d885",
   "metadata": {},
   "outputs": [],
   "source": [
    "# Does that look like three groups?  Is there a way to understand this?"
   ]
  },
  {
   "cell_type": "code",
   "execution_count": null,
   "id": "9a05d47e",
   "metadata": {},
   "outputs": [],
   "source": [
    "plt.hist(data['deltaD'], 30);"
   ]
  },
  {
   "cell_type": "code",
   "execution_count": null,
   "id": "eaa68920",
   "metadata": {},
   "outputs": [],
   "source": [
    "plt.plot(data['deltaD'], data['Interval'],\"ob\");"
   ]
  },
  {
   "cell_type": "code",
   "execution_count": null,
   "id": "3ac3fbd6",
   "metadata": {},
   "outputs": [],
   "source": [
    "... # what else can you plot to understand this?"
   ]
  },
  {
   "cell_type": "code",
   "execution_count": null,
   "id": "20248674",
   "metadata": {},
   "outputs": [],
   "source": [
    "# Two of those groups look tightly clustered. But something goes wrong when Duration doesn't alternate...\n",
    "# What data selection and plots would help you understand that?"
   ]
  },
  {
   "cell_type": "code",
   "execution_count": null,
   "id": "68b5e6b3",
   "metadata": {},
   "outputs": [],
   "source": []
  },
  {
   "cell_type": "code",
   "execution_count": null,
   "id": "cecb5d60",
   "metadata": {},
   "outputs": [],
   "source": []
  },
  {
   "cell_type": "code",
   "execution_count": null,
   "id": "c61c3089",
   "metadata": {},
   "outputs": [],
   "source": [
    "# We can split the data into three groups in deltaD\n",
    "high_delta = data.where(data['deltaD'] >1.5)\n",
    "mid_delta = data.where((data['deltaD'] >-1.5) & (data['deltaD'] < 1.5))  # and/or in selections\n",
    "low_delta = ... # fill this in"
   ]
  },
  {
   "cell_type": "code",
   "execution_count": null,
   "id": "a21d0e6f",
   "metadata": {},
   "outputs": [],
   "source": [
    "plt.hist(high_delta['Interval'], bins=15)\n",
    "plt.figtext(0.75,0.5, high_delta.to_df()['Interval'].describe().to_string())\n",
    "plt.title(\"Duration for high deltaD\");"
   ]
  },
  {
   "cell_type": "code",
   "execution_count": null,
   "id": "0029e710",
   "metadata": {},
   "outputs": [],
   "source": [
    "plt.hist(mid_delta['Interval'], bins=15)\n",
    "plt.figtext(0.1,0.5, mid_delta.to_df()['Interval'].describe().to_string())\n",
    "plt.title(\"Duration for mid deltaD\");"
   ]
  },
  {
   "cell_type": "code",
   "execution_count": null,
   "id": "203dd5f7",
   "metadata": {},
   "outputs": [],
   "source": [
    "# plot the low_delta sample, with description block and title\n"
   ]
  },
  {
   "cell_type": "code",
   "execution_count": null,
   "id": "ce22deca",
   "metadata": {},
   "outputs": [],
   "source": [
    "# We can plot that central sample and see where the tail comes from\n",
    "plt.plot(mid_delta['Duration'], mid_delta['Interval'],\"ob\");"
   ]
  },
  {
   "cell_type": "code",
   "execution_count": null,
   "id": "6ed9f85a",
   "metadata": {},
   "outputs": [],
   "source": [
    "# We can plot all three groups on the same plot using color\n",
    "plt.plot(high_delta['Duration'], high_delta['Interval'],\"or\");\n",
    "plt.plot(mid_delta['Duration'], mid_delta['Interval'],\"oy\");\n",
    "plt.plot(low_delta['Duration'], low_delta['Interval'],\"ob\");"
   ]
  },
  {
   "cell_type": "code",
   "execution_count": null,
   "id": "61115149",
   "metadata": {},
   "outputs": [],
   "source": [
    "# So there seem to be three different physical things going on here\n",
    "#\n",
    "# But remember, you can't use deltaD as a predictor, because it involves Duration:  You don't know that yet\n",
    "# To truely predict (as opposed to investigating the cause), you have to go back even further in time"
   ]
  }
 ],
 "metadata": {
  "kernelspec": {
   "display_name": "Python 3 (ipykernel)",
   "language": "python",
   "name": "python3"
  },
  "language_info": {
   "codemirror_mode": {
    "name": "ipython",
    "version": 3
   },
   "file_extension": ".py",
   "mimetype": "text/x-python",
   "name": "python",
   "nbconvert_exporter": "python",
   "pygments_lexer": "ipython3",
   "version": "3.9.12"
  }
 },
 "nbformat": 4,
 "nbformat_minor": 5
}
